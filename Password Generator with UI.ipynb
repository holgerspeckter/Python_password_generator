{
 "cells": [
  {
   "cell_type": "markdown",
   "id": "49be9d17",
   "metadata": {},
   "source": [
    "## Password Generator with UI"
   ]
  },
  {
   "cell_type": "markdown",
   "id": "e1d978f3",
   "metadata": {},
   "source": [
    "### Scope:"
   ]
  },
  {
   "cell_type": "markdown",
   "id": "eac469da",
   "metadata": {},
   "source": [
    "Python Password Generator including UI. Using package secret, sys and PyQT5."
   ]
  },
  {
   "cell_type": "markdown",
   "id": "f7a971eb",
   "metadata": {},
   "source": [
    "### Code:"
   ]
  },
  {
   "cell_type": "code",
   "execution_count": 1,
   "id": "6ec62f40",
   "metadata": {},
   "outputs": [
    {
     "ename": "SystemExit",
     "evalue": "0",
     "output_type": "error",
     "traceback": [
      "An exception has occurred, use %tb to see the full traceback.\n",
      "\u001b[1;31mSystemExit\u001b[0m\u001b[1;31m:\u001b[0m 0\n"
     ]
    }
   ],
   "source": [
    "# Import Packages\n",
    "from PyQt5.QtWidgets import QApplication, QMainWindow\n",
    "from PyQt5.uic import loadUi\n",
    "\n",
    "import sys\n",
    "import secrets\n",
    "import string\n",
    "\n",
    "import warnings\n",
    "warnings.filterwarnings('ignore')\n",
    "\n",
    "class pwgenerator(QMainWindow):\n",
    "    def __init__(self, parent=None):\n",
    "        super(pwgenerator, self).__init__(parent)\n",
    "        loadUi(\"pwg.ui\", self)\n",
    "\n",
    "# Function button clicked\n",
    "    def button_geklickt(self):\n",
    "        def zeichensatz_erstellen():\n",
    "            zeichensatz = \"\"\n",
    "\n",
    "            if self.checkBox_gross.isChecked():\n",
    "                zeichensatz += string.ascii_uppercase\n",
    "            if self.checkBox_klein.isChecked():\n",
    "                zeichensatz += string.ascii_lowercase\n",
    "            if self.checkBox_sonderzeichen.isChecked():\n",
    "                zeichensatz += string.punctuation\n",
    "            if self.checkBox_ziffern.isChecked():\n",
    "                zeichensatz += string.digits\n",
    "            \n",
    "            return zeichensatz\n",
    "\n",
    "        zeichensatz = zeichensatz_erstellen()\n",
    "\n",
    "        passwort_laenge = self.spinBox_laengenwahl.value()\n",
    "\n",
    "        zeichenliste = []\n",
    "        for i in range(passwort_laenge):\n",
    "            zeichen = secrets.choice(zeichensatz)\n",
    "            zeichenliste.append(zeichen)\n",
    "\n",
    "        passwort = \"\".join(zeichenliste)\n",
    "\n",
    "        self.lineEdit_passwort.setText(passwort)\n",
    "\n",
    "# Function checkbox changed\n",
    "    def checkbox_geaendert(self):\n",
    "        checkbox_liste = [self.checkBox_gross.isChecked(),\n",
    "                          self.checkBox_klein.isChecked(),\n",
    "                          self.checkBox_sonderzeichen.isChecked(),\n",
    "                          self.checkBox_ziffern.isChecked(),]\n",
    "\n",
    "        if any(checkbox_liste):\n",
    "            self.pushButton_passwort_erzeugen.setEnabled(True)\n",
    "        else:\n",
    "            self.pushButton_passwort_erzeugen.setEnabled(False)\n",
    "\n",
    "\n",
    "programm = QApplication(sys.argv)\n",
    "\n",
    "window = pwgenerator()\n",
    "window.show()\n",
    "\n",
    "sys.exit(programm.exec())"
   ]
  },
  {
   "cell_type": "markdown",
   "id": "cd98bd04",
   "metadata": {},
   "source": [
    "### Screenshot"
   ]
  },
  {
   "cell_type": "markdown",
   "id": "e2ccf71e",
   "metadata": {},
   "source": [
    "![Screenshot](./pwg.png)"
   ]
  },
  {
   "cell_type": "code",
   "execution_count": null,
   "id": "841945b3",
   "metadata": {},
   "outputs": [],
   "source": []
  },
  {
   "cell_type": "code",
   "execution_count": null,
   "id": "98f315c7",
   "metadata": {},
   "outputs": [],
   "source": []
  }
 ],
 "metadata": {
  "kernelspec": {
   "display_name": "Python 3 (ipykernel)",
   "language": "python",
   "name": "python3"
  },
  "language_info": {
   "codemirror_mode": {
    "name": "ipython",
    "version": 3
   },
   "file_extension": ".py",
   "mimetype": "text/x-python",
   "name": "python",
   "nbconvert_exporter": "python",
   "pygments_lexer": "ipython3",
   "version": "3.9.7"
  }
 },
 "nbformat": 4,
 "nbformat_minor": 5
}
